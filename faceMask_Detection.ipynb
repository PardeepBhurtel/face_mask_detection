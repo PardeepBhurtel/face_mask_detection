{
 "cells": [
  {
   "cell_type": "code",
   "execution_count": 30,
   "id": "c48507f3",
   "metadata": {},
   "outputs": [],
   "source": [
    "import cv2\n"
   ]
  },
  {
   "cell_type": "code",
   "execution_count": 31,
   "id": "7f483c95",
   "metadata": {},
   "outputs": [],
   "source": [
    "import numpy as np\n"
   ]
  },
  {
   "cell_type": "code",
   "execution_count": 3,
   "id": "57e4b20f",
   "metadata": {},
   "outputs": [
    {
     "name": "stdout",
     "output_type": "stream",
     "text": [
      "Requirement already satisfied: pypiwin32 in c:\\users\\dell\\anaconda3\\lib\\site-packages (223)\n",
      "Requirement already satisfied: pywin32>=223 in c:\\users\\dell\\anaconda3\\lib\\site-packages (from pypiwin32) (227)\n"
     ]
    }
   ],
   "source": [
    "!pip install pypiwin32"
   ]
  },
  {
   "cell_type": "code",
   "execution_count": 4,
   "id": "aedb2ec6",
   "metadata": {},
   "outputs": [
    {
     "name": "stdout",
     "output_type": "stream",
     "text": [
      "Requirement already satisfied: pyttsx3 in c:\\users\\dell\\anaconda3\\lib\\site-packages (2.90)\n",
      "Requirement already satisfied: pypiwin32 in c:\\users\\dell\\anaconda3\\lib\\site-packages (from pyttsx3) (223)\n",
      "Requirement already satisfied: comtypes in c:\\users\\dell\\anaconda3\\lib\\site-packages (from pyttsx3) (1.1.9)\n",
      "Requirement already satisfied: pywin32 in c:\\users\\dell\\anaconda3\\lib\\site-packages (from pyttsx3) (227)\n"
     ]
    }
   ],
   "source": [
    "!pip install pyttsx3"
   ]
  },
  {
   "cell_type": "code",
   "execution_count": 5,
   "id": "947fc7b7",
   "metadata": {},
   "outputs": [],
   "source": [
    "import pyttsx3"
   ]
  },
  {
   "cell_type": "code",
   "execution_count": 6,
   "id": "ba6af9be",
   "metadata": {},
   "outputs": [],
   "source": [
    "with_mask = np.load('with_mask.npy')\n",
    "without_mask = np.load('without_mask.npy')"
   ]
  },
  {
   "cell_type": "code",
   "execution_count": 7,
   "id": "894d2182",
   "metadata": {},
   "outputs": [
    {
     "data": {
      "text/plain": [
       "(200, 50, 50, 3)"
      ]
     },
     "execution_count": 7,
     "metadata": {},
     "output_type": "execute_result"
    }
   ],
   "source": [
    "with_mask.shape\n"
   ]
  },
  {
   "cell_type": "code",
   "execution_count": 8,
   "id": "806fe55f",
   "metadata": {},
   "outputs": [
    {
     "data": {
      "text/plain": [
       "(200, 50, 50, 3)"
      ]
     },
     "execution_count": 8,
     "metadata": {},
     "output_type": "execute_result"
    }
   ],
   "source": [
    "without_mask.shape\n"
   ]
  },
  {
   "cell_type": "code",
   "execution_count": 9,
   "id": "b42492d7",
   "metadata": {},
   "outputs": [],
   "source": [
    "with_mask = with_mask.reshape(200,50*50*3)\n",
    "without_mask = without_mask.reshape(200,50*50*3)"
   ]
  },
  {
   "cell_type": "code",
   "execution_count": 10,
   "id": "5806efbf",
   "metadata": {},
   "outputs": [
    {
     "data": {
      "text/plain": [
       "(200, 7500)"
      ]
     },
     "execution_count": 10,
     "metadata": {},
     "output_type": "execute_result"
    }
   ],
   "source": [
    "with_mask.shape"
   ]
  },
  {
   "cell_type": "code",
   "execution_count": 11,
   "id": "b79091a4",
   "metadata": {},
   "outputs": [
    {
     "data": {
      "text/plain": [
       "(200, 7500)"
      ]
     },
     "execution_count": 11,
     "metadata": {},
     "output_type": "execute_result"
    }
   ],
   "source": [
    "without_mask.shape\n"
   ]
  },
  {
   "cell_type": "code",
   "execution_count": 12,
   "id": "d7612dda",
   "metadata": {},
   "outputs": [],
   "source": [
    "X = np.r_[with_mask,without_mask]"
   ]
  },
  {
   "cell_type": "code",
   "execution_count": 13,
   "id": "e92436c3",
   "metadata": {},
   "outputs": [
    {
     "data": {
      "text/plain": [
       "(400, 7500)"
      ]
     },
     "execution_count": 13,
     "metadata": {},
     "output_type": "execute_result"
    }
   ],
   "source": [
    "X.shape\n"
   ]
  },
  {
   "cell_type": "code",
   "execution_count": 14,
   "id": "ad98805e",
   "metadata": {},
   "outputs": [],
   "source": [
    "labels= np.zeros(X.shape[0])\n"
   ]
  },
  {
   "cell_type": "code",
   "execution_count": 15,
   "id": "076610e3",
   "metadata": {},
   "outputs": [],
   "source": [
    "labels[200:]=1.0"
   ]
  },
  {
   "cell_type": "code",
   "execution_count": 16,
   "id": "67996091",
   "metadata": {},
   "outputs": [],
   "source": [
    "names = {0:'Mask', 1:'No-Mask'}"
   ]
  },
  {
   "cell_type": "code",
   "execution_count": 17,
   "id": "325aaa6d",
   "metadata": {},
   "outputs": [],
   "source": [
    "from sklearn.svm import SVC\n",
    "from sklearn.metrics import accuracy_score"
   ]
  },
  {
   "cell_type": "code",
   "execution_count": 18,
   "id": "e35f7fc1",
   "metadata": {},
   "outputs": [],
   "source": [
    "from sklearn.model_selection import train_test_split"
   ]
  },
  {
   "cell_type": "code",
   "execution_count": 19,
   "id": "0b25a6d3",
   "metadata": {},
   "outputs": [],
   "source": [
    "x_train, x_test, y_train, y_test = train_test_split(X,labels,test_size=0.25)"
   ]
  },
  {
   "cell_type": "code",
   "execution_count": 20,
   "id": "9b6644dc",
   "metadata": {},
   "outputs": [
    {
     "data": {
      "text/plain": [
       "(300, 7500)"
      ]
     },
     "execution_count": 20,
     "metadata": {},
     "output_type": "execute_result"
    }
   ],
   "source": [
    "x_train.shape\n"
   ]
  },
  {
   "cell_type": "code",
   "execution_count": 21,
   "id": "dc694d90",
   "metadata": {},
   "outputs": [],
   "source": [
    "from sklearn.decomposition import PCA\n",
    "# principal component analysis"
   ]
  },
  {
   "cell_type": "code",
   "execution_count": 22,
   "id": "5ce8011d",
   "metadata": {},
   "outputs": [],
   "source": [
    "pca = PCA(n_components = 3)\n",
    "x_train = pca.fit_transform(x_train)"
   ]
  },
  {
   "cell_type": "code",
   "execution_count": 23,
   "id": "443b6cb3",
   "metadata": {},
   "outputs": [
    {
     "data": {
      "text/plain": [
       "array([4907.98010151, 5278.82331993, 2702.49822363])"
      ]
     },
     "execution_count": 23,
     "metadata": {},
     "output_type": "execute_result"
    }
   ],
   "source": [
    "x_train[0]"
   ]
  },
  {
   "cell_type": "code",
   "execution_count": 24,
   "id": "0df3340f",
   "metadata": {},
   "outputs": [
    {
     "data": {
      "text/plain": [
       "(300, 3)"
      ]
     },
     "execution_count": 24,
     "metadata": {},
     "output_type": "execute_result"
    }
   ],
   "source": [
    "x_train.shape"
   ]
  },
  {
   "cell_type": "code",
   "execution_count": 25,
   "id": "70e79615",
   "metadata": {},
   "outputs": [
    {
     "data": {
      "text/plain": [
       "SVC()"
      ]
     },
     "execution_count": 25,
     "metadata": {},
     "output_type": "execute_result"
    }
   ],
   "source": [
    "svm = SVC()\n",
    "svm.fit(x_train,y_train)"
   ]
  },
  {
   "cell_type": "code",
   "execution_count": 26,
   "id": "6baef0e6",
   "metadata": {},
   "outputs": [],
   "source": [
    "x_test = pca.transform(x_test)\n",
    "y_pred = svm.predict(x_test)"
   ]
  },
  {
   "cell_type": "code",
   "execution_count": 27,
   "id": "d42a60be",
   "metadata": {},
   "outputs": [
    {
     "data": {
      "text/plain": [
       "0.98"
      ]
     },
     "execution_count": 27,
     "metadata": {},
     "output_type": "execute_result"
    }
   ],
   "source": [
    "accuracy_score(y_test,y_pred)"
   ]
  },
  {
   "cell_type": "code",
   "execution_count": 28,
   "id": "e554ec5d",
   "metadata": {},
   "outputs": [],
   "source": [
    "engine = pyttsx3.init()"
   ]
  },
  {
   "cell_type": "code",
   "execution_count": 32,
   "id": "961ac1c1",
   "metadata": {},
   "outputs": [
    {
     "name": "stdout",
     "output_type": "stream",
     "text": [
      "Mask\n",
      "No-Mask\n",
      "No-Mask\n",
      "No-Mask\n",
      "No-Mask\n",
      "No-Mask\n",
      "Mask\n",
      "No-Mask\n",
      "No-Mask\n",
      "Mask\n",
      "No-Mask\n",
      "Mask\n",
      "No-Mask\n",
      "Mask\n",
      "No-Mask\n",
      "Mask\n",
      "Mask\n",
      "No-Mask\n",
      "No-Mask\n",
      "No-Mask\n",
      "No-Mask\n",
      "No-Mask\n",
      "No-Mask\n",
      "No-Mask\n",
      "Mask\n",
      "No-Mask\n",
      "Mask\n",
      "No-Mask\n",
      "No-Mask\n",
      "No-Mask\n",
      "No-Mask\n",
      "No-Mask\n",
      "No-Mask\n",
      "Mask\n",
      "Mask\n",
      "No-Mask\n",
      "Mask\n",
      "No-Mask\n",
      "No-Mask\n",
      "No-Mask\n",
      "No-Mask\n",
      "Mask\n",
      "Mask\n",
      "No-Mask\n",
      "No-Mask\n",
      "No-Mask\n",
      "No-Mask\n",
      "Mask\n",
      "Mask\n",
      "Mask\n",
      "Mask\n",
      "Mask\n",
      "Mask\n",
      "Mask\n",
      "Mask\n",
      "Mask\n",
      "Mask\n",
      "Mask\n",
      "Mask\n",
      "Mask\n",
      "Mask\n",
      "Mask\n",
      "No-Mask\n",
      "No-Mask\n",
      "No-Mask\n",
      "No-Mask\n",
      "No-Mask\n",
      "No-Mask\n",
      "No-Mask\n",
      "No-Mask\n",
      "No-Mask\n",
      "No-Mask\n",
      "No-Mask\n",
      "No-Mask\n",
      "No-Mask\n",
      "No-Mask\n",
      "No-Mask\n",
      "Mask\n",
      "Mask\n",
      "No-Mask\n",
      "No-Mask\n",
      "No-Mask\n",
      "No-Mask\n",
      "No-Mask\n",
      "No-Mask\n",
      "No-Mask\n",
      "No-Mask\n",
      "No-Mask\n",
      "No-Mask\n",
      "No-Mask\n",
      "No-Mask\n",
      "No-Mask\n",
      "No-Mask\n",
      "No-Mask\n",
      "No-Mask\n",
      "No-Mask\n",
      "No-Mask\n",
      "No-Mask\n",
      "No-Mask\n",
      "No-Mask\n",
      "No-Mask\n",
      "No-Mask\n",
      "No-Mask\n",
      "No-Mask\n",
      "No-Mask\n",
      "No-Mask\n",
      "Mask\n",
      "No-Mask\n",
      "No-Mask\n",
      "Mask\n",
      "No-Mask\n",
      "Mask\n",
      "No-Mask\n",
      "No-Mask\n",
      "Mask\n",
      "No-Mask\n",
      "Mask\n",
      "No-Mask\n",
      "No-Mask\n",
      "Mask\n",
      "No-Mask\n",
      "No-Mask\n",
      "No-Mask\n",
      "Mask\n",
      "No-Mask\n",
      "No-Mask\n",
      "No-Mask\n",
      "No-Mask\n",
      "Mask\n",
      "No-Mask\n",
      "Mask\n",
      "Mask\n",
      "Mask\n",
      "Mask\n",
      "No-Mask\n",
      "Mask\n",
      "Mask\n",
      "Mask\n",
      "No-Mask\n",
      "No-Mask\n",
      "No-Mask\n",
      "No-Mask\n",
      "No-Mask\n",
      "No-Mask\n",
      "No-Mask\n",
      "No-Mask\n",
      "No-Mask\n",
      "Mask\n",
      "No-Mask\n",
      "No-Mask\n",
      "No-Mask\n",
      "No-Mask\n",
      "No-Mask\n",
      "No-Mask\n",
      "No-Mask\n",
      "No-Mask\n",
      "No-Mask\n",
      "No-Mask\n",
      "No-Mask\n",
      "No-Mask\n",
      "No-Mask\n",
      "No-Mask\n",
      "No-Mask\n",
      "No-Mask\n",
      "No-Mask\n",
      "No-Mask\n",
      "No-Mask\n",
      "No-Mask\n",
      "No-Mask\n",
      "No-Mask\n",
      "No-Mask\n",
      "No-Mask\n",
      "No-Mask\n",
      "No-Mask\n",
      "No-Mask\n",
      "No-Mask\n",
      "No-Mask\n",
      "No-Mask\n",
      "No-Mask\n",
      "No-Mask\n",
      "No-Mask\n",
      "No-Mask\n",
      "No-Mask\n",
      "No-Mask\n",
      "No-Mask\n",
      "No-Mask\n",
      "No-Mask\n",
      "No-Mask\n",
      "No-Mask\n",
      "No-Mask\n",
      "No-Mask\n",
      "No-Mask\n",
      "No-Mask\n",
      "No-Mask\n",
      "No-Mask\n",
      "No-Mask\n",
      "No-Mask\n",
      "No-Mask\n",
      "No-Mask\n",
      "No-Mask\n",
      "Mask\n",
      "No-Mask\n",
      "No-Mask\n",
      "No-Mask\n",
      "Mask\n",
      "Mask\n",
      "Mask\n",
      "Mask\n",
      "Mask\n",
      "Mask\n",
      "Mask\n",
      "Mask\n",
      "Mask\n",
      "Mask\n",
      "Mask\n",
      "Mask\n",
      "No-Mask\n",
      "No-Mask\n",
      "No-Mask\n",
      "Mask\n",
      "Mask\n",
      "Mask\n",
      "Mask\n",
      "No-Mask\n",
      "Mask\n",
      "No-Mask\n",
      "No-Mask\n",
      "Mask\n",
      "Mask\n",
      "Mask\n",
      "Mask\n",
      "Mask\n",
      "Mask\n",
      "Mask\n",
      "Mask\n",
      "Mask\n",
      "No-Mask\n",
      "No-Mask\n",
      "Mask\n",
      "Mask\n",
      "Mask\n",
      "Mask\n",
      "Mask\n",
      "No-Mask\n",
      "Mask\n",
      "Mask\n",
      "Mask\n",
      "Mask\n",
      "Mask\n",
      "Mask\n",
      "Mask\n",
      "Mask\n",
      "Mask\n",
      "Mask\n",
      "Mask\n",
      "Mask\n",
      "Mask\n",
      "Mask\n",
      "Mask\n",
      "Mask\n",
      "Mask\n",
      "Mask\n",
      "No-Mask\n",
      "Mask\n",
      "Mask\n",
      "Mask\n",
      "Mask\n",
      "Mask\n",
      "Mask\n",
      "Mask\n",
      "Mask\n",
      "Mask\n",
      "Mask\n",
      "Mask\n",
      "No-Mask\n",
      "No-Mask\n",
      "Mask\n",
      "Mask\n",
      "Mask\n",
      "Mask\n",
      "No-Mask\n",
      "Mask\n",
      "No-Mask\n",
      "Mask\n",
      "No-Mask\n",
      "Mask\n",
      "No-Mask\n",
      "Mask\n",
      "No-Mask\n",
      "Mask\n",
      "No-Mask\n",
      "Mask\n",
      "Mask\n",
      "No-Mask\n",
      "Mask\n",
      "Mask\n",
      "No-Mask\n",
      "Mask\n",
      "Mask\n",
      "No-Mask\n",
      "Mask\n",
      "Mask\n",
      "Mask\n",
      "Mask\n",
      "Mask\n",
      "Mask\n",
      "Mask\n",
      "Mask\n",
      "Mask\n",
      "Mask\n",
      "Mask\n",
      "Mask\n",
      "Mask\n",
      "Mask\n",
      "Mask\n",
      "Mask\n",
      "Mask\n",
      "No-Mask\n",
      "Mask\n",
      "Mask\n",
      "Mask\n",
      "Mask\n",
      "Mask\n",
      "Mask\n",
      "Mask\n",
      "Mask\n",
      "Mask\n",
      "Mask\n",
      "Mask\n",
      "Mask\n",
      "Mask\n",
      "Mask\n",
      "Mask\n",
      "Mask\n",
      "Mask\n",
      "Mask\n",
      "Mask\n",
      "Mask\n",
      "Mask\n",
      "Mask\n",
      "Mask\n",
      "Mask\n",
      "Mask\n",
      "Mask\n",
      "Mask\n",
      "Mask\n",
      "Mask\n",
      "Mask\n",
      "Mask\n",
      "Mask\n",
      "Mask\n",
      "Mask\n",
      "Mask\n",
      "Mask\n",
      "Mask\n",
      "Mask\n",
      "Mask\n",
      "Mask\n",
      "Mask\n",
      "Mask\n",
      "Mask\n",
      "Mask\n",
      "Mask\n",
      "Mask\n",
      "Mask\n",
      "Mask\n",
      "Mask\n",
      "Mask\n",
      "Mask\n",
      "Mask\n",
      "Mask\n",
      "Mask\n",
      "Mask\n",
      "Mask\n",
      "Mask\n",
      "Mask\n",
      "Mask\n",
      "Mask\n",
      "Mask\n",
      "Mask\n",
      "Mask\n",
      "Mask\n",
      "Mask\n",
      "Mask\n",
      "Mask\n",
      "No-Mask\n",
      "No-Mask\n",
      "No-Mask\n",
      "Mask\n",
      "No-Mask\n",
      "No-Mask\n",
      "No-Mask\n",
      "No-Mask\n",
      "No-Mask\n",
      "No-Mask\n",
      "No-Mask\n",
      "No-Mask\n",
      "No-Mask\n",
      "Mask\n",
      "Mask\n",
      "No-Mask\n",
      "No-Mask\n",
      "No-Mask\n",
      "No-Mask\n",
      "No-Mask\n",
      "No-Mask\n",
      "No-Mask\n",
      "No-Mask\n",
      "No-Mask\n",
      "No-Mask\n",
      "No-Mask\n",
      "No-Mask\n",
      "No-Mask\n",
      "No-Mask\n",
      "Mask\n",
      "No-Mask\n",
      "No-Mask\n",
      "No-Mask\n",
      "No-Mask\n",
      "Mask\n",
      "No-Mask\n",
      "No-Mask\n",
      "No-Mask\n",
      "No-Mask\n",
      "No-Mask\n",
      "No-Mask\n",
      "No-Mask\n",
      "No-Mask\n",
      "Mask\n",
      "No-Mask\n",
      "No-Mask\n",
      "Mask\n",
      "No-Mask\n",
      "Mask\n",
      "Mask\n",
      "No-Mask\n",
      "No-Mask\n",
      "No-Mask\n",
      "No-Mask\n",
      "Mask\n",
      "No-Mask\n",
      "No-Mask\n",
      "Mask\n"
     ]
    }
   ],
   "source": [
    "haar_data = cv2.CascadeClassifier('C:/Users/dell/Documents/frontaldata.xml')\n",
    "capture = cv2.VideoCapture(0)\n",
    "data = []\n",
    "font = cv2.FONT_HERSHEY_COMPLEX\n",
    "while True:\n",
    "    flag, img = capture.read()\n",
    "    if flag:\n",
    "        faces = haar_data.detectMultiScale(img)\n",
    "        for x,y,w,h in faces:\n",
    "            cv2.rectangle(img,(x,y),(x+w,y+h),(255,0,255),4)\n",
    "            face = img[y:y+h,x:x+w,:]\n",
    "            face = cv2.resize(face,(50,50))\n",
    "            face = face.reshape(1,-1)\n",
    "            face = pca.transform(face)\n",
    "            pred = svm.predict(face)\n",
    "            n = names[int(pred)]\n",
    "            cv2.putText(img,n,(x,y),font,1,(244,250,250),2)\n",
    "            \n",
    "                \n",
    "            \n",
    "            \n",
    "            print(n)\n",
    "#            if n==('No-mask'):\n",
    "#                 engine.say(\"p lease wear mask\")\n",
    "#                 engine.runAndWait()\n",
    "                \n",
    "#             if n==('Mask'):\n",
    "#                 engine.say('you are welcome')\n",
    "#                 engine.runAndWait()\n",
    "               \n",
    "#             print(len(data))\n",
    "#             if len(data) < 400:\n",
    "#                 data.append(face)\n",
    "        cv2.imshow('results',img)\n",
    "        if cv2.waitKey(2)==27: \n",
    "            break\n",
    "        \n",
    "        \n",
    "capture.release()           \n",
    "cv2.destroyAllWindows()  \n",
    "    "
   ]
  },
  {
   "cell_type": "code",
   "execution_count": 33,
   "id": "3cdd5685",
   "metadata": {},
   "outputs": [],
   "source": [
    "import matplotlib.pyplot as plt"
   ]
  },
  {
   "cell_type": "code",
   "execution_count": 34,
   "id": "9f561386",
   "metadata": {},
   "outputs": [
    {
     "data": {
      "text/plain": [
       "<matplotlib.image.AxesImage at 0x1f7def60a30>"
      ]
     },
     "execution_count": 34,
     "metadata": {},
     "output_type": "execute_result"
    },
    {
     "data": {
      "image/png": "[encoded data removed]",
      "text/plain": [
       "<Figure size 432x288 with 1 Axes>"
      ]
     },
     "metadata": {
      "needs_background": "light"
     },
     "output_type": "display_data"
    }
   ],
   "source": [
    "plt.imshow(img)"
   ]
  },
  {
   "cell_type": "code",
   "execution_count": null,
   "id": "5f4f9a0d",
   "metadata": {},
   "outputs": [],
   "source": []
  },
  {
   "cell_type": "code",
   "execution_count": null,
   "id": "ad5f7ab6",
   "metadata": {},
   "outputs": [],
   "source": []
  }
 ],
 "metadata": {
  "kernelspec": {
   "display_name": "Python 3 (ipykernel)",
   "language": "python",
   "name": "python3"
  },
  "language_info": {
   "codemirror_mode": {
    "name": "ipython",
    "version": 3
   },
   "file_extension": ".py",
   "mimetype": "text/x-python",
   "name": "python",
   "nbconvert_exporter": "python",
   "pygments_lexer": "ipython3",
   "version": "3.9.7"
  }
 },
 "nbformat": 4,
 "nbformat_minor": 5
}
